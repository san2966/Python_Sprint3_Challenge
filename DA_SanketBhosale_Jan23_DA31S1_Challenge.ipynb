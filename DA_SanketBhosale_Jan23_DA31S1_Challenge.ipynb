{
 "cells": [
  {
   "cell_type": "code",
   "execution_count": 2,
   "id": "4cec55fc",
   "metadata": {},
   "outputs": [],
   "source": [
    "data= [\"Mark Antony\",\"John Chan\",\"Bret Lee\",\"Jim Nick\",\"Janice Ken\",\"Florida Thomson\",\"Lily Jason\",\"Matt Antony\",\"Mark Thomas\",\n",
    "      \"Kenny Peterson\",\"Joe Cook\",\"Alexander Thomas\",\"Katy Perry\",\"Alexanderia Peterson\",\"Mark Antony\"]\n"
   ]
  },
  {
   "cell_type": "markdown",
   "id": "2efcb43f",
   "metadata": {},
   "source": [
    "# task-1:- Spell Bee comptition"
   ]
  },
  {
   "cell_type": "markdown",
   "id": "ff880e04",
   "metadata": {},
   "source": [
    "-- Later,5 more students approched julia to participate in Spell bee compitition.\n",
    "-- Help Julia add this 5 names in existing list of 15 students one by one."
   ]
  },
  {
   "cell_type": "code",
   "execution_count": 3,
   "id": "bae99424",
   "metadata": {},
   "outputs": [
    {
     "name": "stdout",
     "output_type": "stream",
     "text": [
      "enter a name:sanket\n",
      "enter a name:mrunal\n",
      "enter a name:suman\n",
      "enter a name:vighnesh\n",
      "enter a name:mayank\n",
      "Extended list: ['Mark Antony', 'John Chan', 'Bret Lee', 'Jim Nick', 'Janice Ken', 'Florida Thomson', 'Lily Jason', 'Matt Antony', 'Mark Thomas', 'Kenny Peterson', 'Joe Cook', 'Alexander Thomas', 'Katy Perry', 'Alexanderia Peterson', 'Mark Antony', 'sanket', 'mrunal', 'suman', 'vighnesh', 'mayank']\n"
     ]
    }
   ],
   "source": [
    "for i in range(1,6):\n",
    "    name=input('enter a name:')\n",
    "    data.append(name)\n",
    "print('Extended list:',data)"
   ]
  },
  {
   "cell_type": "markdown",
   "id": "a74e5fc8",
   "metadata": {},
   "source": [
    "### Interpretation:-\n",
    "    Here we are used append function to add some extra names in data list.\n",
    "    In the output we get added names in last of the list"
   ]
  },
  {
   "cell_type": "markdown",
   "id": "a628ca93",
   "metadata": {},
   "source": [
    "-- ====================================================================================================================="
   ]
  },
  {
   "cell_type": "markdown",
   "id": "c1d94e20",
   "metadata": {},
   "source": [
    "# task-2:- Spell Bee cometition (Count.)"
   ]
  },
  {
   "cell_type": "markdown",
   "id": "bff51140",
   "metadata": {},
   "source": [
    "-- Julia wants to check the names of the last 5 sudents who singed up later.\n",
    "-- Help julia to print the names of all students in reverse order."
   ]
  },
  {
   "cell_type": "code",
   "execution_count": 4,
   "id": "85aa3759",
   "metadata": {},
   "outputs": [],
   "source": [
    "data.sort(reverse=True)"
   ]
  },
  {
   "cell_type": "code",
   "execution_count": 5,
   "id": "f76259d9",
   "metadata": {},
   "outputs": [
    {
     "name": "stdout",
     "output_type": "stream",
     "text": [
      "vighnesh\n",
      "suman\n",
      "sanket\n",
      "mrunal\n",
      "mayank\n"
     ]
    }
   ],
   "source": [
    "count=0\n",
    "for i in data:\n",
    "    if reversed(data):\n",
    "        count+=1\n",
    "        print(i)\n",
    "    if count==5:\n",
    "        break"
   ]
  },
  {
   "cell_type": "markdown",
   "id": "935cd591",
   "metadata": {},
   "source": [
    "### Interpretation:-\n",
    "    -- Here we are first reverse the data using sort functio.\n",
    "    -- then we use count function to select only the last 5 names"
   ]
  },
  {
   "cell_type": "markdown",
   "id": "7cb0ce05",
   "metadata": {},
   "source": [
    "-- ====================================================================================================================="
   ]
  },
  {
   "cell_type": "markdown",
   "id": "254e7dce",
   "metadata": {},
   "source": [
    "# task-3:-Spell Bee compititon (Count.)"
   ]
  },
  {
   "cell_type": "markdown",
   "id": "630d50c8",
   "metadata": {},
   "source": [
    "-- Perform task 2 again without using any built in function."
   ]
  },
  {
   "cell_type": "code",
   "execution_count": 6,
   "id": "2927f089",
   "metadata": {},
   "outputs": [
    {
     "name": "stdout",
     "output_type": "stream",
     "text": [
      "vighnesh\n",
      "suman\n",
      "sanket\n",
      "mrunal\n",
      "mayank\n"
     ]
    }
   ],
   "source": [
    "count=20\n",
    "for i in data:\n",
    "    if data:\n",
    "        count-=1\n",
    "        print(i)\n",
    "    if count==15:\n",
    "        break"
   ]
  },
  {
   "cell_type": "markdown",
   "id": "b8e15a89",
   "metadata": {},
   "source": [
    "### Interpretation:-\n",
    "    -- In this task we are using only the for loop.\n",
    "    -- we got the last 5 names using count function."
   ]
  },
  {
   "cell_type": "markdown",
   "id": "3e1ea39e",
   "metadata": {},
   "source": [
    "-- ====================================================================================================================="
   ]
  },
  {
   "cell_type": "markdown",
   "id": "9f9a6069",
   "metadata": {},
   "source": [
    "# task-4:- Spell Bee compitition (Count.) "
   ]
  },
  {
   "cell_type": "markdown",
   "id": "62128ae8",
   "metadata": {},
   "source": [
    "-- Help julia to check for any duplicate entries in the list of 20 students name.\n",
    "-- Create a new list named final_list that does not have any name repeated."
   ]
  },
  {
   "cell_type": "code",
   "execution_count": 7,
   "id": "6132883a",
   "metadata": {},
   "outputs": [
    {
     "name": "stdout",
     "output_type": "stream",
     "text": [
      "final list without duplicate:\n",
      "['Mark Antony', 'Bret Lee', 'Jim Nick', 'Mark Thomas', 'Alexander Thomas', 'Katy Perry', 'Alexanderia Peterson', 'mrunal', 'Matt Antony', 'mayank', 'vighnesh', 'Joe Cook', 'Kenny Peterson', 'Janice Ken', 'Lily Jason', 'Florida Thomson', 'sanket', 'John Chan', 'suman']\n"
     ]
    }
   ],
   "source": [
    "data\n",
    "unique_name = list(set(data))\n",
    "final_list=[]\n",
    "for name in unique_name:\n",
    "    final_list.append(name)\n",
    "print('final list without duplicate:')\n",
    "print(final_list)"
   ]
  },
  {
   "cell_type": "markdown",
   "id": "c11398f8",
   "metadata": {},
   "source": [
    "### Interpretation:-\n",
    "    -- In this task we are check for duplicate entries and store the data in new list"
   ]
  },
  {
   "cell_type": "markdown",
   "id": "8e6e6d27",
   "metadata": {},
   "source": [
    "-- ====================================================================================================================="
   ]
  },
  {
   "cell_type": "markdown",
   "id": "a2ce3831",
   "metadata": {},
   "source": [
    "# task-5:- spell Bee Competition(contd.)"
   ]
  },
  {
   "cell_type": "markdown",
   "id": "fad6207f",
   "metadata": {},
   "source": [
    "-- Help julia dispay the names of the students from final_list, in alphabetical order."
   ]
  },
  {
   "cell_type": "code",
   "execution_count": 10,
   "id": "fdbbd6ef",
   "metadata": {},
   "outputs": [
    {
     "data": {
      "text/plain": [
       "['Alexander Thomas',\n",
       " 'Alexanderia Peterson',\n",
       " 'Bret Lee',\n",
       " 'Florida Thomson',\n",
       " 'Janice Ken',\n",
       " 'Jim Nick',\n",
       " 'Joe Cook',\n",
       " 'John Chan',\n",
       " 'Katy Perry',\n",
       " 'Kenny Peterson',\n",
       " 'Lily Jason',\n",
       " 'Mark Antony',\n",
       " 'Mark Thomas',\n",
       " 'Matt Antony',\n",
       " 'mayank',\n",
       " 'mrunal',\n",
       " 'sanket',\n",
       " 'suman',\n",
       " 'vighnesh']"
      ]
     },
     "execution_count": 10,
     "metadata": {},
     "output_type": "execute_result"
    }
   ],
   "source": [
    "final_list.sort()\n",
    "final_list"
   ]
  },
  {
   "cell_type": "markdown",
   "id": "ed5dad45",
   "metadata": {},
   "source": [
    "### Interpretation:-\n",
    "    -- in this task, sort the data alphabetically\n",
    "    -- we are use sort function for this task"
   ]
  },
  {
   "cell_type": "markdown",
   "id": "7ef2c127",
   "metadata": {},
   "source": [
    "-- ====================================================================================================================="
   ]
  },
  {
   "cell_type": "markdown",
   "id": "17e52513",
   "metadata": {},
   "source": [
    "# task-6:- spell Bee Competition(contd.)"
   ]
  },
  {
   "cell_type": "code",
   "execution_count": null,
   "id": "edca7859",
   "metadata": {},
   "outputs": [],
   "source": [
    "-- The student at 2nd, 12th and last position in final_list got selected in spell bee compitition.\n",
    "-- Help julia save the names of these students in a differant list and display them seprately."
   ]
  },
  {
   "cell_type": "code",
   "execution_count": 32,
   "id": "82a12ddb",
   "metadata": {},
   "outputs": [
    {
     "name": "stdout",
     "output_type": "stream",
     "text": [
      "Name of student at position 2 : Alexanderia Peterson\n",
      "Name of student at position 12 : Mark Antony\n",
      "Name of student at position 19 : vighnesh\n"
     ]
    }
   ],
   "source": [
    "selected_students = []\n",
    "positions = [1, 11, 18] \n",
    "\n",
    "for pos in positions:\n",
    "    if pos >= 0 and pos < len(final_list):\n",
    "        selected_students.append(final_list[pos])\n",
    "\n",
    "for i, student in enumerate(selected_students):\n",
    "    print(\"Name of student at position\", positions[i] + 1, \":\", student)"
   ]
  },
  {
   "cell_type": "markdown",
   "id": "00ab4bf5",
   "metadata": {},
   "source": [
    "-- ====================================================================================================================="
   ]
  },
  {
   "cell_type": "markdown",
   "id": "6e1ee88b",
   "metadata": {},
   "source": [
    "# task-7:- spell Bee Competition(contd.)"
   ]
  },
  {
   "cell_type": "markdown",
   "id": "0b1cb59f",
   "metadata": {},
   "source": [
    "-- write a program to count the number of intergers between 555 and 678 that are divisible by 7."
   ]
  },
  {
   "cell_type": "code",
   "execution_count": 34,
   "id": "88d4987a",
   "metadata": {},
   "outputs": [
    {
     "name": "stdout",
     "output_type": "stream",
     "text": [
      "17\n"
     ]
    }
   ],
   "source": [
    "count=0\n",
    "for i in range(556,678):\n",
    "    if i%7==0:\n",
    "        count+=1\n",
    "print(count)"
   ]
  },
  {
   "cell_type": "markdown",
   "id": "391bf813",
   "metadata": {},
   "source": [
    "-- ====================================================================================================================="
   ]
  },
  {
   "cell_type": "markdown",
   "id": "1e0215c7",
   "metadata": {},
   "source": [
    "# task-8:- spell Bee Competition(contd.)"
   ]
  },
  {
   "cell_type": "code",
   "execution_count": null,
   "id": "fce683db",
   "metadata": {},
   "outputs": [],
   "source": [
    "-- write a python program that prints the first 30 natural numbers but skips all numbers that are multiple of n.\n",
    "-- Accept the value of n as an input from the user."
   ]
  },
  {
   "cell_type": "code",
   "execution_count": 40,
   "id": "d4cc6335",
   "metadata": {},
   "outputs": [
    {
     "name": "stdout",
     "output_type": "stream",
     "text": [
      "enter the number:3\n",
      "1\n",
      "2\n",
      "4\n",
      "5\n",
      "7\n",
      "8\n",
      "10\n",
      "11\n",
      "13\n",
      "14\n",
      "16\n",
      "17\n",
      "19\n",
      "20\n",
      "22\n",
      "23\n",
      "25\n",
      "26\n",
      "28\n",
      "29\n",
      "31\n",
      "32\n",
      "34\n",
      "35\n",
      "37\n",
      "38\n",
      "40\n",
      "41\n",
      "43\n",
      "44\n"
     ]
    }
   ],
   "source": [
    "n=int(input('enter the number:'))\n",
    "count=0\n",
    "num=1\n",
    "while count<30:\n",
    "    if num%n!=0:\n",
    "        print(num)\n",
    "        count+=1\n",
    "    num+=1"
   ]
  },
  {
   "cell_type": "markdown",
   "id": "cc286ae7",
   "metadata": {},
   "source": [
    "-- ====================================================================================================================="
   ]
  },
  {
   "cell_type": "markdown",
   "id": "9ba7c251",
   "metadata": {},
   "source": [
    "# Task-9:- spell Bee Competition(contd.)"
   ]
  },
  {
   "cell_type": "markdown",
   "id": "cb672ca7",
   "metadata": {},
   "source": [
    "-- find the sum of corrosponding elements of firstlist and secondlist.\n",
    "-- store them in a new list named thirdlist and print result."
   ]
  },
  {
   "cell_type": "code",
   "execution_count": 41,
   "id": "d4a72d26",
   "metadata": {},
   "outputs": [],
   "source": [
    "firstlist=[1,21,3,4,5,6,7,18,4]\n",
    "secondlist=[19,1,17,6,15,14,13,2,11]"
   ]
  },
  {
   "cell_type": "code",
   "execution_count": 42,
   "id": "73e5f97d",
   "metadata": {},
   "outputs": [
    {
     "name": "stdout",
     "output_type": "stream",
     "text": [
      "[20, 22, 20, 10, 20, 20, 20, 20, 15]\n"
     ]
    }
   ],
   "source": [
    "thirdlist=[]\n",
    "\n",
    "for i in range(len(firstlist)):\n",
    "    sum= firstlist[i]+secondlist[i]\n",
    "    thirdlist.append(sum)\n",
    "print(thirdlist)"
   ]
  },
  {
   "cell_type": "markdown",
   "id": "6f653315",
   "metadata": {},
   "source": [
    "-- ====================================================================================================================="
   ]
  }
 ],
 "metadata": {
  "kernelspec": {
   "display_name": "Python 3 (ipykernel)",
   "language": "python",
   "name": "python3"
  },
  "language_info": {
   "codemirror_mode": {
    "name": "ipython",
    "version": 3
   },
   "file_extension": ".py",
   "mimetype": "text/x-python",
   "name": "python",
   "nbconvert_exporter": "python",
   "pygments_lexer": "ipython3",
   "version": "3.9.13"
  }
 },
 "nbformat": 4,
 "nbformat_minor": 5
}
